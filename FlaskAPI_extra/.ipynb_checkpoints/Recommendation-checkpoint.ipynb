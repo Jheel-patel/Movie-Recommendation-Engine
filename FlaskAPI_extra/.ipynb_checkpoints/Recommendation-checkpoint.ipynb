{
 "cells": [
  {
   "cell_type": "code",
   "execution_count": 27,
   "metadata": {},
   "outputs": [],
   "source": [
    "import pandas as pd\n",
    "import numpy as np\n",
    "from sklearn.feature_extraction.text import CountVectorizer\n",
    "from sklearn.metrics.pairwise import cosine_similarity\n",
    "\n",
    "def results(movie_name):\n",
    "    movie_name = movie_name.lower()\n",
    "    \n",
    "    movie_data = pd.read_csv('Appdata/Movie_dataset.csv')\n",
    "    movie_data = movie_data.drop(['Unnamed: 0','genres','overview','production_companies'],axis=1)\n",
    "    movie_data = movie_data.iloc[:100]\n",
    "    \n",
    "    if movie_name not in movie_data['title'].unique():\n",
    "        return 'Movie not in Database'\n",
    "    else:\n",
    "\n",
    "        cv = CountVectorizer()\n",
    "        count_matrix = cv.fit_transform(movie_data[\"combined_features\"])\n",
    "        cosine_sim = cosine_similarity(count_matrix)   \n",
    "\n",
    "        movie_index = movie_data[movie_data.title == movie_name][\"index\"].values[0]\n",
    "\n",
    "        similar_movies = list(enumerate(cosine_sim[movie_index]))\n",
    "\n",
    "        sorted_similar_movies = sorted(similar_movies,key=lambda x:x[1],reverse=True)\n",
    "\n",
    "        result=[]\n",
    "        i=0\n",
    "        for element in sorted_similar_movies:\n",
    "            if movie_data[movie_data.index == element[0]][\"title\"].values[0] == movie_name:\n",
    "                pass\n",
    "            else:\n",
    "                result.append(movie_data[movie_data.index == element[0]][\"title\"].values[0])\n",
    "                i=i+1\n",
    "                if i>9:\n",
    "                    break\n",
    "        \n",
    "        return result"
   ]
  }
 ],
 "metadata": {
  "kernelspec": {
   "display_name": "Python 3",
   "language": "python",
   "name": "python3"
  },
  "language_info": {
   "codemirror_mode": {
    "name": "ipython",
    "version": 3
   },
   "file_extension": ".py",
   "mimetype": "text/x-python",
   "name": "python",
   "nbconvert_exporter": "python",
   "pygments_lexer": "ipython3",
   "version": "3.7.9"
  }
 },
 "nbformat": 4,
 "nbformat_minor": 4
}
