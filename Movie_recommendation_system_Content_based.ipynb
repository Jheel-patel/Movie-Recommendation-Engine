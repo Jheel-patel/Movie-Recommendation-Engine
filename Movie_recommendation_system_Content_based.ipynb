{
 "cells": [
  {
   "cell_type": "markdown",
   "metadata": {
    "colab_type": "text",
    "id": "GnNhtTmz3DK7"
   },
   "source": [
    "## Importing required libraries"
   ]
  },
  {
   "cell_type": "code",
   "execution_count": 61,
   "metadata": {
    "colab": {},
    "colab_type": "code",
    "id": "0JuwAAQ2EDuH"
   },
   "outputs": [],
   "source": [
    "import pandas as pd\n",
    "import numpy as np\n",
    "from sklearn.feature_extraction.text import CountVectorizer\n",
    "from sklearn.metrics.pairwise import cosine_similarity\n",
    "from pandas_profiling import ProfileReport\n",
    "import re \n",
    "import warnings\n",
    "warnings.filterwarnings(\"ignore\")"
   ]
  },
  {
   "cell_type": "markdown",
   "metadata": {
    "colab_type": "text",
    "id": "W9WNTOuA3Hny"
   },
   "source": [
    "## Loading and viewing data"
   ]
  },
  {
   "cell_type": "code",
   "execution_count": 62,
   "metadata": {
    "colab": {
     "base_uri": "https://localhost:8080/",
     "height": 70
    },
    "colab_type": "code",
    "id": "tWSSA4HjEDua",
    "outputId": "965d3438-f6a9-413c-9933-e6e65f40c594"
   },
   "outputs": [],
   "source": [
    "met_small = pd.read_csv('Data/movies_metadata.csv')"
   ]
  },
  {
   "cell_type": "code",
   "execution_count": 63,
   "metadata": {
    "colab": {
     "base_uri": "https://localhost:8080/",
     "height": 1000
    },
    "colab_type": "code",
    "id": "FGcc9WTiEDvQ",
    "outputId": "7f2d059a-cf1b-4447-f13a-f1cc4e2fcf43"
   },
   "outputs": [
    {
     "data": {
      "text/html": [
       "<div>\n",
       "<style scoped>\n",
       "    .dataframe tbody tr th:only-of-type {\n",
       "        vertical-align: middle;\n",
       "    }\n",
       "\n",
       "    .dataframe tbody tr th {\n",
       "        vertical-align: top;\n",
       "    }\n",
       "\n",
       "    .dataframe thead th {\n",
       "        text-align: right;\n",
       "    }\n",
       "</style>\n",
       "<table border=\"1\" class=\"dataframe\">\n",
       "  <thead>\n",
       "    <tr style=\"text-align: right;\">\n",
       "      <th></th>\n",
       "      <th>adult</th>\n",
       "      <th>belongs_to_collection</th>\n",
       "      <th>budget</th>\n",
       "      <th>genres</th>\n",
       "      <th>homepage</th>\n",
       "      <th>id</th>\n",
       "      <th>imdb_id</th>\n",
       "      <th>original_language</th>\n",
       "      <th>original_title</th>\n",
       "      <th>overview</th>\n",
       "      <th>...</th>\n",
       "      <th>release_date</th>\n",
       "      <th>revenue</th>\n",
       "      <th>runtime</th>\n",
       "      <th>spoken_languages</th>\n",
       "      <th>status</th>\n",
       "      <th>tagline</th>\n",
       "      <th>title</th>\n",
       "      <th>video</th>\n",
       "      <th>vote_average</th>\n",
       "      <th>vote_count</th>\n",
       "    </tr>\n",
       "  </thead>\n",
       "  <tbody>\n",
       "    <tr>\n",
       "      <th>0</th>\n",
       "      <td>False</td>\n",
       "      <td>{'id': 10194, 'name': 'Toy Story Collection', ...</td>\n",
       "      <td>30000000</td>\n",
       "      <td>[{'id': 16, 'name': 'Animation'}, {'id': 35, '...</td>\n",
       "      <td>http://toystory.disney.com/toy-story</td>\n",
       "      <td>862</td>\n",
       "      <td>tt0114709</td>\n",
       "      <td>en</td>\n",
       "      <td>Toy Story</td>\n",
       "      <td>Led by Woody, Andy's toys live happily in his ...</td>\n",
       "      <td>...</td>\n",
       "      <td>1995-10-30</td>\n",
       "      <td>373554033.0</td>\n",
       "      <td>81.0</td>\n",
       "      <td>[{'iso_639_1': 'en', 'name': 'English'}]</td>\n",
       "      <td>Released</td>\n",
       "      <td>NaN</td>\n",
       "      <td>Toy Story</td>\n",
       "      <td>False</td>\n",
       "      <td>7.7</td>\n",
       "      <td>5415.0</td>\n",
       "    </tr>\n",
       "    <tr>\n",
       "      <th>1</th>\n",
       "      <td>False</td>\n",
       "      <td>NaN</td>\n",
       "      <td>65000000</td>\n",
       "      <td>[{'id': 12, 'name': 'Adventure'}, {'id': 14, '...</td>\n",
       "      <td>NaN</td>\n",
       "      <td>8844</td>\n",
       "      <td>tt0113497</td>\n",
       "      <td>en</td>\n",
       "      <td>Jumanji</td>\n",
       "      <td>When siblings Judy and Peter discover an encha...</td>\n",
       "      <td>...</td>\n",
       "      <td>1995-12-15</td>\n",
       "      <td>262797249.0</td>\n",
       "      <td>104.0</td>\n",
       "      <td>[{'iso_639_1': 'en', 'name': 'English'}, {'iso...</td>\n",
       "      <td>Released</td>\n",
       "      <td>Roll the dice and unleash the excitement!</td>\n",
       "      <td>Jumanji</td>\n",
       "      <td>False</td>\n",
       "      <td>6.9</td>\n",
       "      <td>2413.0</td>\n",
       "    </tr>\n",
       "    <tr>\n",
       "      <th>2</th>\n",
       "      <td>False</td>\n",
       "      <td>{'id': 119050, 'name': 'Grumpy Old Men Collect...</td>\n",
       "      <td>0</td>\n",
       "      <td>[{'id': 10749, 'name': 'Romance'}, {'id': 35, ...</td>\n",
       "      <td>NaN</td>\n",
       "      <td>15602</td>\n",
       "      <td>tt0113228</td>\n",
       "      <td>en</td>\n",
       "      <td>Grumpier Old Men</td>\n",
       "      <td>A family wedding reignites the ancient feud be...</td>\n",
       "      <td>...</td>\n",
       "      <td>1995-12-22</td>\n",
       "      <td>0.0</td>\n",
       "      <td>101.0</td>\n",
       "      <td>[{'iso_639_1': 'en', 'name': 'English'}]</td>\n",
       "      <td>Released</td>\n",
       "      <td>Still Yelling. Still Fighting. Still Ready for...</td>\n",
       "      <td>Grumpier Old Men</td>\n",
       "      <td>False</td>\n",
       "      <td>6.5</td>\n",
       "      <td>92.0</td>\n",
       "    </tr>\n",
       "    <tr>\n",
       "      <th>3</th>\n",
       "      <td>False</td>\n",
       "      <td>NaN</td>\n",
       "      <td>16000000</td>\n",
       "      <td>[{'id': 35, 'name': 'Comedy'}, {'id': 18, 'nam...</td>\n",
       "      <td>NaN</td>\n",
       "      <td>31357</td>\n",
       "      <td>tt0114885</td>\n",
       "      <td>en</td>\n",
       "      <td>Waiting to Exhale</td>\n",
       "      <td>Cheated on, mistreated and stepped on, the wom...</td>\n",
       "      <td>...</td>\n",
       "      <td>1995-12-22</td>\n",
       "      <td>81452156.0</td>\n",
       "      <td>127.0</td>\n",
       "      <td>[{'iso_639_1': 'en', 'name': 'English'}]</td>\n",
       "      <td>Released</td>\n",
       "      <td>Friends are the people who let you be yourself...</td>\n",
       "      <td>Waiting to Exhale</td>\n",
       "      <td>False</td>\n",
       "      <td>6.1</td>\n",
       "      <td>34.0</td>\n",
       "    </tr>\n",
       "    <tr>\n",
       "      <th>4</th>\n",
       "      <td>False</td>\n",
       "      <td>{'id': 96871, 'name': 'Father of the Bride Col...</td>\n",
       "      <td>0</td>\n",
       "      <td>[{'id': 35, 'name': 'Comedy'}]</td>\n",
       "      <td>NaN</td>\n",
       "      <td>11862</td>\n",
       "      <td>tt0113041</td>\n",
       "      <td>en</td>\n",
       "      <td>Father of the Bride Part II</td>\n",
       "      <td>Just when George Banks has recovered from his ...</td>\n",
       "      <td>...</td>\n",
       "      <td>1995-02-10</td>\n",
       "      <td>76578911.0</td>\n",
       "      <td>106.0</td>\n",
       "      <td>[{'iso_639_1': 'en', 'name': 'English'}]</td>\n",
       "      <td>Released</td>\n",
       "      <td>Just When His World Is Back To Normal... He's ...</td>\n",
       "      <td>Father of the Bride Part II</td>\n",
       "      <td>False</td>\n",
       "      <td>5.7</td>\n",
       "      <td>173.0</td>\n",
       "    </tr>\n",
       "  </tbody>\n",
       "</table>\n",
       "<p>5 rows × 24 columns</p>\n",
       "</div>"
      ],
      "text/plain": [
       "   adult                              belongs_to_collection    budget  \\\n",
       "0  False  {'id': 10194, 'name': 'Toy Story Collection', ...  30000000   \n",
       "1  False                                                NaN  65000000   \n",
       "2  False  {'id': 119050, 'name': 'Grumpy Old Men Collect...         0   \n",
       "3  False                                                NaN  16000000   \n",
       "4  False  {'id': 96871, 'name': 'Father of the Bride Col...         0   \n",
       "\n",
       "                                              genres  \\\n",
       "0  [{'id': 16, 'name': 'Animation'}, {'id': 35, '...   \n",
       "1  [{'id': 12, 'name': 'Adventure'}, {'id': 14, '...   \n",
       "2  [{'id': 10749, 'name': 'Romance'}, {'id': 35, ...   \n",
       "3  [{'id': 35, 'name': 'Comedy'}, {'id': 18, 'nam...   \n",
       "4                     [{'id': 35, 'name': 'Comedy'}]   \n",
       "\n",
       "                               homepage     id    imdb_id original_language  \\\n",
       "0  http://toystory.disney.com/toy-story    862  tt0114709                en   \n",
       "1                                   NaN   8844  tt0113497                en   \n",
       "2                                   NaN  15602  tt0113228                en   \n",
       "3                                   NaN  31357  tt0114885                en   \n",
       "4                                   NaN  11862  tt0113041                en   \n",
       "\n",
       "                original_title  \\\n",
       "0                    Toy Story   \n",
       "1                      Jumanji   \n",
       "2             Grumpier Old Men   \n",
       "3            Waiting to Exhale   \n",
       "4  Father of the Bride Part II   \n",
       "\n",
       "                                            overview  ... release_date  \\\n",
       "0  Led by Woody, Andy's toys live happily in his ...  ...   1995-10-30   \n",
       "1  When siblings Judy and Peter discover an encha...  ...   1995-12-15   \n",
       "2  A family wedding reignites the ancient feud be...  ...   1995-12-22   \n",
       "3  Cheated on, mistreated and stepped on, the wom...  ...   1995-12-22   \n",
       "4  Just when George Banks has recovered from his ...  ...   1995-02-10   \n",
       "\n",
       "       revenue runtime                                   spoken_languages  \\\n",
       "0  373554033.0    81.0           [{'iso_639_1': 'en', 'name': 'English'}]   \n",
       "1  262797249.0   104.0  [{'iso_639_1': 'en', 'name': 'English'}, {'iso...   \n",
       "2          0.0   101.0           [{'iso_639_1': 'en', 'name': 'English'}]   \n",
       "3   81452156.0   127.0           [{'iso_639_1': 'en', 'name': 'English'}]   \n",
       "4   76578911.0   106.0           [{'iso_639_1': 'en', 'name': 'English'}]   \n",
       "\n",
       "     status                                            tagline  \\\n",
       "0  Released                                                NaN   \n",
       "1  Released          Roll the dice and unleash the excitement!   \n",
       "2  Released  Still Yelling. Still Fighting. Still Ready for...   \n",
       "3  Released  Friends are the people who let you be yourself...   \n",
       "4  Released  Just When His World Is Back To Normal... He's ...   \n",
       "\n",
       "                         title  video vote_average vote_count  \n",
       "0                    Toy Story  False          7.7     5415.0  \n",
       "1                      Jumanji  False          6.9     2413.0  \n",
       "2             Grumpier Old Men  False          6.5       92.0  \n",
       "3            Waiting to Exhale  False          6.1       34.0  \n",
       "4  Father of the Bride Part II  False          5.7      173.0  \n",
       "\n",
       "[5 rows x 24 columns]"
      ]
     },
     "execution_count": 63,
     "metadata": {},
     "output_type": "execute_result"
    }
   ],
   "source": [
    "met_small.head()"
   ]
  },
  {
   "cell_type": "markdown",
   "metadata": {
    "colab_type": "text",
    "id": "hPEFjfX43fYM"
   },
   "source": [
    "## Explantory Data Analysis"
   ]
  },
  {
   "cell_type": "code",
   "execution_count": 64,
   "metadata": {
    "colab": {},
    "colab_type": "code",
    "id": "jRu9Skxq8fF2"
   },
   "outputs": [],
   "source": [
    "# Extract the columns of interest and replace the NaN with blank string\n",
    "\n",
    "movies_data = met_small[['title','genres','overview','production_companies','original_language','status','vote_count','vote_average']].replace(np.nan, '', regex=True)"
   ]
  },
  {
   "cell_type": "code",
   "execution_count": 65,
   "metadata": {
    "colab": {
     "base_uri": "https://localhost:8080/",
     "height": 1000
    },
    "colab_type": "code",
    "id": "c9xbxp3z3aX6",
    "outputId": "9fc4c3cb-7b4a-4b42-cd66-bdf3d88d35dc"
   },
   "outputs": [],
   "source": [
    "#ProfileReport(movie_dataset)"
   ]
  },
  {
   "cell_type": "markdown",
   "metadata": {
    "colab_type": "text",
    "id": "R8Gc1xqo39fC"
   },
   "source": [
    "## Data Cleaning"
   ]
  },
  {
   "cell_type": "code",
   "execution_count": 66,
   "metadata": {
    "scrolled": true
   },
   "outputs": [],
   "source": [
    "#Remove movies with less than 5 imdb rating and langauges other than english and hindi\n",
    "\n",
    "#First replace Empty values \"\" with 0\n",
    "movies_data['vote_average']=movies_data['vote_average'].replace(\"\",0)\n",
    "\n",
    "#movies with rating more than 5 will be included in the list\n",
    "movie_more5 = movies_data[movies_data['vote_average']>5]\n",
    "\n",
    "#Only released movies to be included in the list\n",
    "movie_rel = movie_more5[movie_more5['status']=='Released']\n",
    "\n",
    "#Convert the title to lowercase\n",
    "movie_rel['title'] = movie_rel['title'].str.lower()\n",
    "\n",
    "#Select the major languages\n",
    "movie_lang = movie_rel[movie_rel['original_language'].isin(['en','ja','it','de','es','ru','ko','hi'])== True]\n",
    "\n",
    "#Select movies with more than 500 vote counts\n",
    "movie_vote = movie_lang[movie_lang['vote_count']>500]\n",
    "\n",
    "#Reset index after removal of rows\n",
    "movie_dataset = movie_vote.reset_index().drop(columns='index',axis=1)"
   ]
  },
  {
   "cell_type": "code",
   "execution_count": 67,
   "metadata": {
    "colab": {},
    "colab_type": "code",
    "id": "iT7oLvg79HLu"
   },
   "outputs": [],
   "source": [
    "#Define a function to combine all strings\n",
    "\n",
    "def combine_features(row):\n",
    "    try:\n",
    "        return row['title'] +2*(\" \"+row[\"genres\"])+\" \"+row[\"overview\"]+\" \"+row[\"production_companies\"]+3*(\" \"+row[\"original_language\"])\n",
    "    except:\n",
    "        print(\"Error:\",row)"
   ]
  },
  {
   "cell_type": "code",
   "execution_count": 68,
   "metadata": {
    "colab": {},
    "colab_type": "code",
    "id": "5pLEX4QA9w-G"
   },
   "outputs": [
    {
     "data": {
      "text/plain": [
       "\"toy story [{'id': 16, 'name': 'animation'}, {'id': 35, 'name': 'comedy'}, {'id': 10751, 'name': 'family'}] [{'id': 16, 'name': 'animation'}, {'id': 35, 'name': 'comedy'}, {'id': 10751, 'name': 'family'}] led by woody, andy's toys live happily in his room until andy's birthday brings buzz lightyear onto the scene. afraid of losing his place in andy's heart, woody plots against buzz. but when circumstances separate buzz and woody from their owner, the duo eventually learns to put aside their differences. [{'name': 'pixar animation studios', 'id': 3}] en en en\""
      ]
     },
     "execution_count": 68,
     "metadata": {},
     "output_type": "execute_result"
    }
   ],
   "source": [
    "#Combine title, genre, overview and production companies\n",
    "#Thus a user will be recommended movies that are similar in genre, overiew and production company\n",
    "\n",
    "movie_dataset[\"combined_features\"] = movie_dataset.apply(combine_features,axis=1)\n",
    "\n",
    "#Convert the string to lower case\n",
    "movie_dataset[\"combined_features\"]= movie_dataset[\"combined_features\"].str.lower()\n",
    "\n",
    "#Lets view one of the combine feature\n",
    "movie_dataset[\"combined_features\"][0]"
   ]
  },
  {
   "cell_type": "code",
   "execution_count": 69,
   "metadata": {
    "colab": {
     "base_uri": "https://localhost:8080/",
     "height": 69
    },
    "colab_type": "code",
    "id": "frbJ81txbZIC",
    "outputId": "9aece9cd-f305-42c6-bf67-5470d3d7ae2d",
    "scrolled": true
   },
   "outputs": [
    {
     "data": {
      "text/plain": [
       "'toy story animation comedy family animation comedy family led by woody andys toys live happily in his room until andys birthday brings buzz lightyear onto the scene afra of losing his place in andys heart woody plots against buzz but when circumstances separate buzz and woody from their owner the duo eventually learns to put ase their differences pixar animation studios en en en'"
      ]
     },
     "execution_count": 69,
     "metadata": {},
     "output_type": "execute_result"
    }
   ],
   "source": [
    "#Lets remove the unwanted parentheses, id, name, punctuation\n",
    "\n",
    "movie_dataset.astype(str)['combined_features'].map(lambda x:  type(x))\n",
    "\n",
    "replace_val = [\"{'id'\",\"'name':\",\"'},\",\"[\",\"]\",\"'\",\",\",\"}]\",\"{\",\"}\",\".\",\":\",\"'\",'[0-9]','id','--']\n",
    "\n",
    "for i in replace_val:\n",
    "  movie_dataset[\"combined_features\"] = movie_dataset[\"combined_features\"].str.replace(i, '')\n",
    "\n",
    "for i in range(len(movie_dataset)):\n",
    "    movie_dataset[\"combined_features\"][i] = re.sub(' +', ' ', movie_dataset[\"combined_features\"][i]) \n",
    "\n",
    "movie_dataset[\"combined_features\"][0]"
   ]
  },
  {
   "cell_type": "code",
   "execution_count": 70,
   "metadata": {
    "colab": {},
    "colab_type": "code",
    "id": "bM9mrAJgE6cW"
   },
   "outputs": [],
   "source": [
    "#Copy movie dataset to df\n",
    "df= movie_dataset.copy(deep=True)\n",
    "\n",
    "#Create a column named index\n",
    "df['index'] = df.index"
   ]
  },
  {
   "cell_type": "markdown",
   "metadata": {},
   "source": [
    "## Save the Pre=processed dataset"
   ]
  },
  {
   "cell_type": "code",
   "execution_count": 71,
   "metadata": {},
   "outputs": [
    {
     "data": {
      "text/html": [
       "<div>\n",
       "<style scoped>\n",
       "    .dataframe tbody tr th:only-of-type {\n",
       "        vertical-align: middle;\n",
       "    }\n",
       "\n",
       "    .dataframe tbody tr th {\n",
       "        vertical-align: top;\n",
       "    }\n",
       "\n",
       "    .dataframe thead th {\n",
       "        text-align: right;\n",
       "    }\n",
       "</style>\n",
       "<table border=\"1\" class=\"dataframe\">\n",
       "  <thead>\n",
       "    <tr style=\"text-align: right;\">\n",
       "      <th></th>\n",
       "      <th>title</th>\n",
       "      <th>genres</th>\n",
       "      <th>overview</th>\n",
       "      <th>production_companies</th>\n",
       "      <th>original_language</th>\n",
       "      <th>status</th>\n",
       "      <th>vote_count</th>\n",
       "      <th>vote_average</th>\n",
       "      <th>combined_features</th>\n",
       "      <th>index</th>\n",
       "    </tr>\n",
       "  </thead>\n",
       "  <tbody>\n",
       "    <tr>\n",
       "      <th>0</th>\n",
       "      <td>toy story</td>\n",
       "      <td>[{'id': 16, 'name': 'Animation'}, {'id': 35, '...</td>\n",
       "      <td>Led by Woody, Andy's toys live happily in his ...</td>\n",
       "      <td>[{'name': 'Pixar Animation Studios', 'id': 3}]</td>\n",
       "      <td>en</td>\n",
       "      <td>Released</td>\n",
       "      <td>5415</td>\n",
       "      <td>7.7</td>\n",
       "      <td>toy story animation comedy family animation co...</td>\n",
       "      <td>0</td>\n",
       "    </tr>\n",
       "    <tr>\n",
       "      <th>1</th>\n",
       "      <td>jumanji</td>\n",
       "      <td>[{'id': 12, 'name': 'Adventure'}, {'id': 14, '...</td>\n",
       "      <td>When siblings Judy and Peter discover an encha...</td>\n",
       "      <td>[{'name': 'TriStar Pictures', 'id': 559}, {'na...</td>\n",
       "      <td>en</td>\n",
       "      <td>Released</td>\n",
       "      <td>2413</td>\n",
       "      <td>6.9</td>\n",
       "      <td>jumanji adventure fantasy family adventure fan...</td>\n",
       "      <td>1</td>\n",
       "    </tr>\n",
       "    <tr>\n",
       "      <th>2</th>\n",
       "      <td>heat</td>\n",
       "      <td>[{'id': 28, 'name': 'Action'}, {'id': 80, 'nam...</td>\n",
       "      <td>Obsessive master thief, Neil McCauley leads a ...</td>\n",
       "      <td>[{'name': 'Regency Enterprises', 'id': 508}, {...</td>\n",
       "      <td>en</td>\n",
       "      <td>Released</td>\n",
       "      <td>1886</td>\n",
       "      <td>7.7</td>\n",
       "      <td>heat action crime drama thriller action crime ...</td>\n",
       "      <td>2</td>\n",
       "    </tr>\n",
       "    <tr>\n",
       "      <th>3</th>\n",
       "      <td>goldeneye</td>\n",
       "      <td>[{'id': 12, 'name': 'Adventure'}, {'id': 28, '...</td>\n",
       "      <td>James Bond must unmask the mysterious head of ...</td>\n",
       "      <td>[{'name': 'United Artists', 'id': 60}, {'name'...</td>\n",
       "      <td>en</td>\n",
       "      <td>Released</td>\n",
       "      <td>1194</td>\n",
       "      <td>6.6</td>\n",
       "      <td>goldeneye adventure action thriller adventure ...</td>\n",
       "      <td>3</td>\n",
       "    </tr>\n",
       "    <tr>\n",
       "      <th>4</th>\n",
       "      <td>casino</td>\n",
       "      <td>[{'id': 18, 'name': 'Drama'}, {'id': 80, 'name...</td>\n",
       "      <td>The life of the gambling paradise – Las Vegas ...</td>\n",
       "      <td>[{'name': 'Universal Pictures', 'id': 33}, {'n...</td>\n",
       "      <td>en</td>\n",
       "      <td>Released</td>\n",
       "      <td>1343</td>\n",
       "      <td>7.8</td>\n",
       "      <td>casino drama crime drama crime the life of the...</td>\n",
       "      <td>4</td>\n",
       "    </tr>\n",
       "    <tr>\n",
       "      <th>...</th>\n",
       "      <td>...</td>\n",
       "      <td>...</td>\n",
       "      <td>...</td>\n",
       "      <td>...</td>\n",
       "      <td>...</td>\n",
       "      <td>...</td>\n",
       "      <td>...</td>\n",
       "      <td>...</td>\n",
       "      <td>...</td>\n",
       "      <td>...</td>\n",
       "    </tr>\n",
       "    <tr>\n",
       "      <th>1967</th>\n",
       "      <td>what happened to monday</td>\n",
       "      <td>[{'id': 878, 'name': 'Science Fiction'}, {'id'...</td>\n",
       "      <td>In a world where families are limited to one c...</td>\n",
       "      <td>[{'name': 'Vendome Pictures', 'id': 7460}, {'n...</td>\n",
       "      <td>en</td>\n",
       "      <td>Released</td>\n",
       "      <td>598</td>\n",
       "      <td>7.3</td>\n",
       "      <td>what happened to monday science fiction thrill...</td>\n",
       "      <td>1967</td>\n",
       "    </tr>\n",
       "    <tr>\n",
       "      <th>1968</th>\n",
       "      <td>atomic blonde</td>\n",
       "      <td>[{'id': 28, 'name': 'Action'}, {'id': 53, 'nam...</td>\n",
       "      <td>An undercover MI6 agent is sent to Berlin duri...</td>\n",
       "      <td>[{'name': 'Denver and Delilah Productions', 'i...</td>\n",
       "      <td>en</td>\n",
       "      <td>Released</td>\n",
       "      <td>748</td>\n",
       "      <td>6.1</td>\n",
       "      <td>atomic blonde action thriller action thriller ...</td>\n",
       "      <td>1968</td>\n",
       "    </tr>\n",
       "    <tr>\n",
       "      <th>1969</th>\n",
       "      <td>dunkirk</td>\n",
       "      <td>[{'id': 28, 'name': 'Action'}, {'id': 18, 'nam...</td>\n",
       "      <td>The miraculous evacuation of Allied soldiers f...</td>\n",
       "      <td>[{'name': 'Canal+', 'id': 5358}, {'name': 'Stu...</td>\n",
       "      <td>en</td>\n",
       "      <td>Released</td>\n",
       "      <td>2712</td>\n",
       "      <td>7.5</td>\n",
       "      <td>dunkirk action drama history thriller war acti...</td>\n",
       "      <td>1969</td>\n",
       "    </tr>\n",
       "    <tr>\n",
       "      <th>1970</th>\n",
       "      <td>transformers: the last knight</td>\n",
       "      <td>[{'id': 28, 'name': 'Action'}, {'id': 878, 'na...</td>\n",
       "      <td>Autobots and Decepticons are at war, with huma...</td>\n",
       "      <td>[{'name': 'Paramount Pictures', 'id': 4}, {'na...</td>\n",
       "      <td>en</td>\n",
       "      <td>Released</td>\n",
       "      <td>1440</td>\n",
       "      <td>6.2</td>\n",
       "      <td>transformers the last knight action science fi...</td>\n",
       "      <td>1970</td>\n",
       "    </tr>\n",
       "    <tr>\n",
       "      <th>1971</th>\n",
       "      <td>the dark tower</td>\n",
       "      <td>[{'id': 28, 'name': 'Action'}, {'id': 37, 'nam...</td>\n",
       "      <td>The last Gunslinger, Roland Deschain, has been...</td>\n",
       "      <td>[{'name': 'Imagine Entertainment', 'id': 23}, ...</td>\n",
       "      <td>en</td>\n",
       "      <td>Released</td>\n",
       "      <td>688</td>\n",
       "      <td>5.7</td>\n",
       "      <td>the dark tower action western science fiction ...</td>\n",
       "      <td>1971</td>\n",
       "    </tr>\n",
       "  </tbody>\n",
       "</table>\n",
       "<p>1972 rows × 10 columns</p>\n",
       "</div>"
      ],
      "text/plain": [
       "                              title  \\\n",
       "0                         toy story   \n",
       "1                           jumanji   \n",
       "2                              heat   \n",
       "3                         goldeneye   \n",
       "4                            casino   \n",
       "...                             ...   \n",
       "1967        what happened to monday   \n",
       "1968                  atomic blonde   \n",
       "1969                        dunkirk   \n",
       "1970  transformers: the last knight   \n",
       "1971                 the dark tower   \n",
       "\n",
       "                                                 genres  \\\n",
       "0     [{'id': 16, 'name': 'Animation'}, {'id': 35, '...   \n",
       "1     [{'id': 12, 'name': 'Adventure'}, {'id': 14, '...   \n",
       "2     [{'id': 28, 'name': 'Action'}, {'id': 80, 'nam...   \n",
       "3     [{'id': 12, 'name': 'Adventure'}, {'id': 28, '...   \n",
       "4     [{'id': 18, 'name': 'Drama'}, {'id': 80, 'name...   \n",
       "...                                                 ...   \n",
       "1967  [{'id': 878, 'name': 'Science Fiction'}, {'id'...   \n",
       "1968  [{'id': 28, 'name': 'Action'}, {'id': 53, 'nam...   \n",
       "1969  [{'id': 28, 'name': 'Action'}, {'id': 18, 'nam...   \n",
       "1970  [{'id': 28, 'name': 'Action'}, {'id': 878, 'na...   \n",
       "1971  [{'id': 28, 'name': 'Action'}, {'id': 37, 'nam...   \n",
       "\n",
       "                                               overview  \\\n",
       "0     Led by Woody, Andy's toys live happily in his ...   \n",
       "1     When siblings Judy and Peter discover an encha...   \n",
       "2     Obsessive master thief, Neil McCauley leads a ...   \n",
       "3     James Bond must unmask the mysterious head of ...   \n",
       "4     The life of the gambling paradise – Las Vegas ...   \n",
       "...                                                 ...   \n",
       "1967  In a world where families are limited to one c...   \n",
       "1968  An undercover MI6 agent is sent to Berlin duri...   \n",
       "1969  The miraculous evacuation of Allied soldiers f...   \n",
       "1970  Autobots and Decepticons are at war, with huma...   \n",
       "1971  The last Gunslinger, Roland Deschain, has been...   \n",
       "\n",
       "                                   production_companies original_language  \\\n",
       "0        [{'name': 'Pixar Animation Studios', 'id': 3}]                en   \n",
       "1     [{'name': 'TriStar Pictures', 'id': 559}, {'na...                en   \n",
       "2     [{'name': 'Regency Enterprises', 'id': 508}, {...                en   \n",
       "3     [{'name': 'United Artists', 'id': 60}, {'name'...                en   \n",
       "4     [{'name': 'Universal Pictures', 'id': 33}, {'n...                en   \n",
       "...                                                 ...               ...   \n",
       "1967  [{'name': 'Vendome Pictures', 'id': 7460}, {'n...                en   \n",
       "1968  [{'name': 'Denver and Delilah Productions', 'i...                en   \n",
       "1969  [{'name': 'Canal+', 'id': 5358}, {'name': 'Stu...                en   \n",
       "1970  [{'name': 'Paramount Pictures', 'id': 4}, {'na...                en   \n",
       "1971  [{'name': 'Imagine Entertainment', 'id': 23}, ...                en   \n",
       "\n",
       "        status vote_count  vote_average  \\\n",
       "0     Released       5415           7.7   \n",
       "1     Released       2413           6.9   \n",
       "2     Released       1886           7.7   \n",
       "3     Released       1194           6.6   \n",
       "4     Released       1343           7.8   \n",
       "...        ...        ...           ...   \n",
       "1967  Released        598           7.3   \n",
       "1968  Released        748           6.1   \n",
       "1969  Released       2712           7.5   \n",
       "1970  Released       1440           6.2   \n",
       "1971  Released        688           5.7   \n",
       "\n",
       "                                      combined_features  index  \n",
       "0     toy story animation comedy family animation co...      0  \n",
       "1     jumanji adventure fantasy family adventure fan...      1  \n",
       "2     heat action crime drama thriller action crime ...      2  \n",
       "3     goldeneye adventure action thriller adventure ...      3  \n",
       "4     casino drama crime drama crime the life of the...      4  \n",
       "...                                                 ...    ...  \n",
       "1967  what happened to monday science fiction thrill...   1967  \n",
       "1968  atomic blonde action thriller action thriller ...   1968  \n",
       "1969  dunkirk action drama history thriller war acti...   1969  \n",
       "1970  transformers the last knight action science fi...   1970  \n",
       "1971  the dark tower action western science fiction ...   1971  \n",
       "\n",
       "[1972 rows x 10 columns]"
      ]
     },
     "execution_count": 71,
     "metadata": {},
     "output_type": "execute_result"
    }
   ],
   "source": [
    "df"
   ]
  },
  {
   "cell_type": "code",
   "execution_count": 72,
   "metadata": {},
   "outputs": [],
   "source": [
    "df.to_csv(\"Appdata/Movie_dataset.csv\")"
   ]
  },
  {
   "cell_type": "markdown",
   "metadata": {},
   "source": [
    "## Create model and predict"
   ]
  },
  {
   "cell_type": "code",
   "execution_count": 79,
   "metadata": {
    "colab": {},
    "colab_type": "code",
    "id": "cj8-bS8wEUn7"
   },
   "outputs": [],
   "source": [
    "#Create count matrix from this new combined column\n",
    "\n",
    "cv = CountVectorizer()\n",
    "\n",
    "count_matrix = cv.fit_transform(df[\"combined_features\"])\n",
    "\n",
    "#Compute the Cosine Similarity based on the count_matrix\n",
    "\n",
    "cosine_sim = cosine_similarity(count_matrix) \n",
    "movie_user_likes = \"heat\""
   ]
  },
  {
   "cell_type": "code",
   "execution_count": 80,
   "metadata": {
    "colab": {},
    "colab_type": "code",
    "id": "tIUyw4scGfeX"
   },
   "outputs": [],
   "source": [
    "#Helper functions to obtain index of movie from its title\n",
    "\n",
    "def get_title_from_index(index):\n",
    "    return df[df.index == index][\"title\"].values[0]\n",
    "\n",
    "def get_index_from_title(title):\n",
    "    return df[df.title == title][\"index\"].values[0]"
   ]
  },
  {
   "cell_type": "code",
   "execution_count": 81,
   "metadata": {
    "colab": {},
    "colab_type": "code",
    "id": "1q_NhoX4Gxh7"
   },
   "outputs": [
    {
     "name": "stdout",
     "output_type": "stream",
     "text": [
      "mystic river\n",
      "a most violent year\n",
      "shooter\n",
      "zodiac\n",
      "l.a. confidential\n",
      "point break\n"
     ]
    }
   ],
   "source": [
    "#Get index of this movie from its title\n",
    "\n",
    "movie_index = get_index_from_title(movie_user_likes)\n",
    "\n",
    "similar_movies =  list(enumerate(cosine_sim[movie_index]))\n",
    "\n",
    "\n",
    "#Get a list of similar movies in descending order of similarity score\n",
    "\n",
    "sorted_similar_movies = sorted(similar_movies,key=lambda x:x[1],reverse=True)\n",
    "\n",
    "# Print titles of first 5 movies\n",
    "i=0\n",
    "for element in sorted_similar_movies:\n",
    "  if get_title_from_index(element[0])==movie_user_likes:\n",
    "    pass\n",
    "  else:\n",
    "    print(get_title_from_index(element[0]))\n",
    "    i=i+1\n",
    "    if i>5:\n",
    "      break"
   ]
  },
  {
   "cell_type": "code",
   "execution_count": null,
   "metadata": {},
   "outputs": [],
   "source": []
  }
 ],
 "metadata": {
  "colab": {
   "name": "Movie recommendation system-Content based.ipynb",
   "provenance": [],
   "toc_visible": true
  },
  "kernelspec": {
   "display_name": "Python 3",
   "language": "python",
   "name": "python3"
  },
  "language_info": {
   "codemirror_mode": {
    "name": "ipython",
    "version": 3
   },
   "file_extension": ".py",
   "mimetype": "text/x-python",
   "name": "python",
   "nbconvert_exporter": "python",
   "pygments_lexer": "ipython3",
   "version": "3.7.9"
  }
 },
 "nbformat": 4,
 "nbformat_minor": 1
}
